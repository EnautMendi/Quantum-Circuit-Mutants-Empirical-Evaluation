{
 "cells": [
  {
   "cell_type": "markdown",
   "id": "c4ed9aaa",
   "metadata": {},
   "source": [
    "# Load data"
   ]
  },
  {
   "cell_type": "markdown",
   "id": "619b3885",
   "metadata": {},
   "source": [
    "### Imports"
   ]
  },
  {
   "cell_type": "code",
   "execution_count": null,
   "id": "e743f51c",
   "metadata": {},
   "outputs": [],
   "source": [
    "import os\n",
    "import pandas as pd\n",
    "from sklearn import preprocessing\n",
    "import numpy as np"
   ]
  },
  {
   "cell_type": "markdown",
   "id": "14a944cb",
   "metadata": {},
   "source": [
    "### P-Value 0.01"
   ]
  },
  {
   "cell_type": "code",
   "execution_count": null,
   "id": "ad999198",
   "metadata": {},
   "outputs": [],
   "source": [
    "files = os.listdir('resultsCsv/')\n",
    "df_total_001 = pd.DataFrame(columns=[\"Origin_program\", \"Operator\", \"Gate\", \"Position\", \"Killed\"])\n",
    "\n",
    "for file in files:\n",
    "    df_new = pd.read_csv('resultsCsv/' + str(file))\n",
    "    del df_new['Qubits']\n",
    "    df_total_001 = pd.concat([df_total_001, df_new], ignore_index=True)\n",
    "    df_new = df_new.iloc[0:0]\n",
    "\n",
    "    \n",
    "df_total_001.info()\n",
    "df_total_001.head()"
   ]
  },
  {
   "cell_type": "markdown",
   "id": "db9a704b",
   "metadata": {},
   "source": [
    "### Recalculate position"
   ]
  },
  {
   "cell_type": "code",
   "execution_count": null,
   "id": "fff01a79",
   "metadata": {},
   "outputs": [],
   "source": [
    "df_mapping = pd.read_csv('position_mapping.csv')\n",
    "\n",
    "df_total_001['Line'] = df_total_001['Position']\n",
    "x = 0\n",
    "y = 0\n",
    "for index, row in df_total_001.iterrows():\n",
    "    df_total_001.loc[index, 'Line'] = int(df_mapping[(df_mapping['program'] == df_total_001.loc[index, 'Origin_program']) & (df_mapping['position'] == df_total_001.loc[index, 'Position'])]['line'])\n",
    "    x = x + 1\n",
    "    if x > 10000:\n",
    "        y = y + 10000\n",
    "        x = 0\n",
    "        print(y)\n"
   ]
  },
  {
   "cell_type": "code",
   "execution_count": null,
   "id": "7e5175c5",
   "metadata": {},
   "outputs": [],
   "source": [
    "df_total_001"
   ]
  },
  {
   "cell_type": "markdown",
   "id": "b725aec4",
   "metadata": {},
   "source": [
    "### New column for replace operator"
   ]
  },
  {
   "cell_type": "code",
   "execution_count": null,
   "id": "d9145378",
   "metadata": {},
   "outputs": [],
   "source": [
    "AllGates = (\"x\", \"h\", \"p\", \"t\", \"s\", \"z\", \"y\", \"id\", \"rx\", \"ry\", \"rz\", \"sx\", \"swap\", \"rzz\", \"rxx\", \"cx\", \"cz\", \"ccx\", \"cswap\")\n",
    "def getGateForPosition(origin_name, position):\n",
    "    splitChar = 92\n",
    "    folder_path = r'\\Origin_Programs'\n",
    "    origin_path = folder_path + chr(splitChar) + origin_name + '_rewriteCircuit.py'\n",
    "    x = 1\n",
    "    f = open(origin_path)\n",
    "    line = f.readline()\n",
    "    while x <= position:\n",
    "        if ('qc' in line) and (\"QuantumCircuit\" not in line):\n",
    "            temp = line.split(\".\", 1)\n",
    "            temp2 = temp[1].split(\"(\")\n",
    "            if temp2[0] in AllGates:\n",
    "                x = x + 1\n",
    "                gate = temp2[0]\n",
    "        line = f.readline()\n",
    "\n",
    "    return gate"
   ]
  },
  {
   "cell_type": "code",
   "execution_count": null,
   "id": "dd78271c",
   "metadata": {},
   "outputs": [],
   "source": [
    "df_total_001['New_gate'] = \"\"\n",
    "for index, row in df_total_001.iterrows():\n",
    "    if row['Operator'] == 'Replace':\n",
    "        df_total_001.loc[index, 'New_gate'] = row['Gate']\n",
    "        df_total_001.loc[index, 'Gate'] = getGateForPosition(row['Origin_program'], row['Position'])\n",
    "    else:\n",
    "        df_total_001.loc[index, 'New_gate'] = row['Gate']\n",
    "df_total_001"
   ]
  },
  {
   "cell_type": "markdown",
   "id": "6392b6ba",
   "metadata": {},
   "source": [
    "### Program characteristics"
   ]
  },
  {
   "cell_type": "code",
   "execution_count": null,
   "id": "825b8155",
   "metadata": {},
   "outputs": [],
   "source": [
    "df_characteristics = pd.read_excel('programs_characteristics.xlsx', sheet_name='characteristics')"
   ]
  },
  {
   "cell_type": "code",
   "execution_count": null,
   "id": "fd8ae144",
   "metadata": {},
   "outputs": [],
   "source": [
    "df_characteristics.head()"
   ]
  },
  {
   "cell_type": "code",
   "execution_count": null,
   "id": "5ad12f1d",
   "metadata": {},
   "outputs": [],
   "source": [
    "df_characteristics.rename(columns = {'Unnamed: 0':'Origin_program'}, inplace = True)\n",
    "df_characteristics.rename(columns = {'group':'algorithm'}, inplace = True)"
   ]
  },
  {
   "cell_type": "markdown",
   "id": "81789518",
   "metadata": {},
   "source": [
    "### Merge info"
   ]
  },
  {
   "cell_type": "code",
   "execution_count": null,
   "id": "a9b00fd7",
   "metadata": {},
   "outputs": [],
   "source": [
    "complete_001 = pd.merge(df_characteristics, df_total_001, on=\"Origin_program\")\n",
    "complete_001.info()"
   ]
  },
  {
   "cell_type": "code",
   "execution_count": null,
   "id": "803ebe44",
   "metadata": {},
   "outputs": [],
   "source": [
    "#Clean algorithm name\n",
    "complete_001['algorithm'] = complete_001['algorithm'].str.replace('indepqiskit','')"
   ]
  },
  {
   "cell_type": "code",
   "execution_count": null,
   "id": "66dedbc2",
   "metadata": {},
   "outputs": [],
   "source": [
    "complete_001['algorithm'].unique()"
   ]
  },
  {
   "cell_type": "code",
   "execution_count": null,
   "id": "52fd62ef",
   "metadata": {},
   "outputs": [],
   "source": [
    "#Create algorithm groups into base algorithms\n",
    "complete_001.loc[(complete_001.algorithm == 'dj'), 'algorithm_group'] = 'dj'\n",
    "complete_001.loc[(complete_001.algorithm == 'ghz'), 'algorithm_group'] = 'ghz'\n",
    "complete_001.loc[(complete_001.algorithm == 'graphstate'), 'algorithm_group'] = 'graphstate'\n",
    "complete_001.loc[(complete_001.algorithm == 'groundstatelarge') | (complete_001.algorithm == 'groundstatemedium') | (complete_001.algorithm == 'groundstatesmall') | (complete_001.algorithm == 'portfoliovqe') | (complete_001.algorithm == 'vqe') | (complete_001.algorithm == 'su2random') | (complete_001.algorithm == 'tsp') | (complete_001.algorithm == 'realamprandom') | (complete_001.algorithm == 'twolocalrandom') | (complete_001.algorithm == 'routing'), 'algorithm_group'] = 'vqe'\n",
    "complete_001.loc[(complete_001.algorithm == 'grover-noancilla') | (complete_001.algorithm == 'grover-v-chain'), 'algorithm_group'] = 'grover'\n",
    "complete_001.loc[(complete_001.algorithm == 'portfolioqaoa') | (complete_001.algorithm == 'qaoa'), 'algorithm_group'] = 'qaoa'\n",
    "complete_001.loc[(complete_001.algorithm == 'pricingcall') | (complete_001.algorithm == 'pricingput') | (complete_001.algorithm == 'ae'), 'algorithm_group'] = 'ae'\n",
    "complete_001.loc[(complete_001.algorithm == 'qft') | (complete_001.algorithm == 'qftentangled'), 'algorithm_group'] = 'qft'\n",
    "complete_001.loc[(complete_001.algorithm == 'qgan'), 'algorithm_group'] = 'qgan'\n",
    "complete_001.loc[(complete_001.algorithm == 'qpeexact') | (complete_001.algorithm == 'qpeinexact'), 'algorithm_group'] = 'qpe'\n",
    "complete_001.loc[(complete_001.algorithm == 'qwalk-noancilla') | (complete_001.algorithm == 'qwalk-v-chain'), 'algorithm_group'] = 'qwalk'\n",
    "complete_001.loc[(complete_001.algorithm == 'wstate'), 'algorithm_group'] = 'wstate'\n"
   ]
  },
  {
   "cell_type": "code",
   "execution_count": null,
   "id": "07f7eac0",
   "metadata": {},
   "outputs": [],
   "source": [
    "#Classify algorithm depending on the scalability on mqtbench\n",
    "complete_001['dominant_state']='no'\n",
    "dominant_groups = ('ae', 'vqe', 'grover','qaoa','qpe')\n",
    "complete_001.loc[complete_001['algorithm_group'].isin(dominant_groups), 'dominant_state'] = 'yes'\n",
    "\n"
   ]
  },
  {
   "cell_type": "code",
   "execution_count": null,
   "id": "127c6157",
   "metadata": {},
   "outputs": [],
   "source": [
    "complete_001['algorithm_group'].unique()"
   ]
  },
  {
   "cell_type": "code",
   "execution_count": null,
   "id": "069567c3",
   "metadata": {},
   "outputs": [],
   "source": [
    "#Postions with percent\n",
    "complete_001[\"Position_percent\"] = (100*complete_001['Line'].astype(int))/(complete_001['qubits'].astype(int) + complete_001['gates'].astype(int))\n"
   ]
  },
  {
   "cell_type": "code",
   "execution_count": null,
   "id": "de586387",
   "metadata": {},
   "outputs": [],
   "source": [
    "#Convert positions to integer\n",
    "complete_001[\"Position_percent\"] = complete_001[\"Position_percent\"].astype(int)\n"
   ]
  },
  {
   "cell_type": "code",
   "execution_count": null,
   "id": "5d3570f6",
   "metadata": {},
   "outputs": [],
   "source": [
    "#Positions by 10%\n",
    "complete_001.loc[complete_001.Position_percent <= 10, 'Position_by_10'] = 10\n",
    "complete_001.loc[(complete_001.Position_percent > 10) & (complete_001.Position_percent <= 20), 'Position_by_10'] = 20\n",
    "complete_001.loc[(complete_001.Position_percent > 20) & (complete_001.Position_percent <= 30), 'Position_by_10'] = 30\n",
    "complete_001.loc[(complete_001.Position_percent > 30) & (complete_001.Position_percent <= 40), 'Position_by_10'] = 40\n",
    "complete_001.loc[(complete_001.Position_percent > 40) & (complete_001.Position_percent <= 50), 'Position_by_10'] = 50\n",
    "complete_001.loc[(complete_001.Position_percent > 50) & (complete_001.Position_percent <= 60), 'Position_by_10'] = 60\n",
    "complete_001.loc[(complete_001.Position_percent > 60) & (complete_001.Position_percent <= 70), 'Position_by_10'] = 70\n",
    "complete_001.loc[(complete_001.Position_percent > 70) & (complete_001.Position_percent <= 80), 'Position_by_10'] = 80\n",
    "complete_001.loc[(complete_001.Position_percent > 80) & (complete_001.Position_percent <= 90), 'Position_by_10'] = 90\n",
    "complete_001.loc[(complete_001.Position_percent > 90), 'Position_by_10'] = 100\n"
   ]
  },
  {
   "cell_type": "code",
   "execution_count": null,
   "id": "867c07c7",
   "metadata": {},
   "outputs": [],
   "source": [
    "#Gate group by number of qubits\n",
    "SingleQubit = (\"x\", \"h\", \"p\", \"t\", \"s\", \"z\", \"y\", \"id\", \"rx\", \"ry\", \"rz\", \"sx\", \"u\", \"u1\", \"u2\", \"u3\")\n",
    "MultiQubit = (\"swap\", \"rzz\", \"rxx\", \"cx\", \"cz\", \"ccx\", \"cswap\")\n",
    "complete_001.loc[complete_001['Gate'].isin(SingleQubit), 'Gate_size'] = 'Single'\n",
    "complete_001.loc[complete_001['Gate'].isin(MultiQubit), 'Gate_size'] = 'Multi'\n"
   ]
  },
  {
   "cell_type": "code",
   "execution_count": null,
   "id": "3e2d76a2",
   "metadata": {},
   "outputs": [],
   "source": [
    "#Gate group by type\n",
    "\n",
    "T = (\"t\",)\n",
    "Phase = (\"p\",\"s\",)\n",
    "Pauli = (\"x\", \"id\", \"z\", \"y\", \"sx\")\n",
    "Rotation = (\"rx\", \"ry\", \"rz\", \"rzz\", \"rxx\")\n",
    "Hadamard = (\"h\",)\n",
    "Controlledgates = (\"cx\", \"cz\", \"ccx\", \"cswap\")\n",
    "SwapGate = (\"swap\",)\n",
    "\n",
    "complete_001.loc[complete_001['Gate'].isin(T), 'Gate_type'] = 'T'\n",
    "complete_001.loc[complete_001['Gate'].isin(Phase), 'Gate_type'] = 'Phase'\n",
    "complete_001.loc[complete_001['Gate'].isin(Pauli), 'Gate_type'] = 'Pauli'\n",
    "complete_001.loc[complete_001['Gate'].isin(Rotation), 'Gate_type'] = 'Rotation'\n",
    "complete_001.loc[complete_001['Gate'].isin(Hadamard), 'Gate_type'] = 'Hadamard'\n",
    "complete_001.loc[complete_001['Gate'].isin(Controlledgates), 'Gate_type'] = 'Controlled'\n",
    "complete_001.loc[complete_001['Gate'].isin(SwapGate), 'Gate_type'] = 'SwapGate'\n",
    "\n"
   ]
  },
  {
   "cell_type": "code",
   "execution_count": null,
   "id": "446119b5",
   "metadata": {},
   "outputs": [],
   "source": [
    "complete_001"
   ]
  },
  {
   "cell_type": "code",
   "execution_count": null,
   "id": "4027c750",
   "metadata": {},
   "outputs": [],
   "source": [
    "complete_001.to_csv(\"merged_data_001.csv\",index=False)"
   ]
  }
 ],
 "metadata": {
  "kernelspec": {
   "display_name": "Python 3 (ipykernel)",
   "language": "python",
   "name": "python3"
  },
  "language_info": {
   "codemirror_mode": {
    "name": "ipython",
    "version": 3
   },
   "file_extension": ".py",
   "mimetype": "text/x-python",
   "name": "python",
   "nbconvert_exporter": "python",
   "pygments_lexer": "ipython3",
   "version": "3.10.9"
  }
 },
 "nbformat": 4,
 "nbformat_minor": 5
}
