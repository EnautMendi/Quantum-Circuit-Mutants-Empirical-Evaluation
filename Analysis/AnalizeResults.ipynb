{
 "cells": [
  {
   "cell_type": "markdown",
   "id": "c4ed9aaa",
   "metadata": {},
   "source": [
    "# Load data"
   ]
  },
  {
   "cell_type": "markdown",
   "id": "619b3885",
   "metadata": {},
   "source": [
    "### Imports"
   ]
  },
  {
   "cell_type": "code",
   "execution_count": null,
   "id": "7abe11ba",
   "metadata": {},
   "outputs": [],
   "source": [
    "import os\n",
    "import pandas as pd\n",
    "import seaborn as sns\n",
    "import matplotlib.pyplot as plt\n",
    "from sklearn import preprocessing\n",
    "import numpy as np\n",
    "import plotly\n",
    "import plotly.graph_objects as go\n",
    "from plotly.subplots import make_subplots\n",
    "\n"
   ]
  },
  {
   "cell_type": "code",
   "execution_count": null,
   "id": "7247bb3d",
   "metadata": {},
   "outputs": [],
   "source": [
    "algorithm_mapping = {\n",
    "    'QP1': 'ae',\n",
    "    'QP2': 'dj',\n",
    "    'QP3': 'ghz',\n",
    "    'QP4': 'graphstate',\n",
    "    'QP5': 'groundstatelarge',\n",
    "    'QP6': 'groundstatemedium',\n",
    "    'QP7': 'groundstatesmall',\n",
    "    'QP8': 'grover-noancilla',\n",
    "    'QP9': 'grover-v-chain',\n",
    "    'QP10': 'portfolioqaoa',\n",
    "    'QP11': 'portfoliovqe',\n",
    "    'QP12': 'pricingcall',\n",
    "    'QP13': 'pricingput',\n",
    "    'QP14': 'qaoa',\n",
    "    'QP15': 'qft',\n",
    "    'QP16': 'qftentangled',\n",
    "    'QP17': 'qgan',\n",
    "    'QP18': 'qpeexact',\n",
    "    'QP19': 'qpeinexact',\n",
    "    'QP20': 'qwalk-noancilla',\n",
    "    'QP21': 'qwalk-v-chain',\n",
    "    'QP22': 'realamprandom',\n",
    "    'QP23': 'routing',\n",
    "    'QP24': 'su2random',\n",
    "    'QP25': 'tsp',\n",
    "    'QP26': 'twolocalrandom',\n",
    "    'QP27': 'vqe',\n",
    "    'QP28': 'wstate'\n",
    "}\n"
   ]
  },
  {
   "cell_type": "code",
   "execution_count": null,
   "id": "411d2dbb",
   "metadata": {},
   "outputs": [],
   "source": [
    "def find_mapping_algorithm(target_value):\n",
    "    for key, value in algorithm_mapping.items():\n",
    "        if value == target_value:\n",
    "            return key\n",
    "    return None"
   ]
  },
  {
   "cell_type": "markdown",
   "id": "cacfc22e",
   "metadata": {},
   "source": [
    "# Analyze data"
   ]
  },
  {
   "cell_type": "code",
   "execution_count": null,
   "id": "ce87aca0",
   "metadata": {},
   "outputs": [],
   "source": [
    "complete_001 = pd.read_csv('merged_data_001.csv')"
   ]
  },
  {
   "cell_type": "code",
   "execution_count": null,
   "id": "2e9cc0dc",
   "metadata": {},
   "outputs": [],
   "source": [
    "complete_001.columns"
   ]
  },
  {
   "cell_type": "code",
   "execution_count": null,
   "id": "6c72255c",
   "metadata": {},
   "outputs": [],
   "source": [
    "count_killed = complete_001.groupby(\"Killed\").size()\n",
    "print(count_killed)"
   ]
  },
  {
   "cell_type": "code",
   "execution_count": null,
   "id": "bbf2a3b3",
   "metadata": {},
   "outputs": [],
   "source": [
    "complete_001[(complete_001['Gate']=='id') & (complete_001['Killed']!='Survivor')]"
   ]
  },
  {
   "cell_type": "markdown",
   "id": "b9a8ff54",
   "metadata": {},
   "source": [
    "### Counts mutants characteristics"
   ]
  },
  {
   "cell_type": "code",
   "execution_count": null,
   "id": "9ecb8bd0",
   "metadata": {
    "scrolled": true
   },
   "outputs": [],
   "source": [
    "count_algorithms = complete_001.groupby(\"algorithm\").size()\n",
    "print(count_algorithms)"
   ]
  },
  {
   "cell_type": "code",
   "execution_count": null,
   "id": "2bc752d0",
   "metadata": {
    "scrolled": true
   },
   "outputs": [],
   "source": [
    "complete_001[\"algorithm\"].unique()\n"
   ]
  },
  {
   "cell_type": "code",
   "execution_count": null,
   "id": "3fc47b9e",
   "metadata": {
    "scrolled": true
   },
   "outputs": [],
   "source": [
    "count_algorithms_groups = complete_001.groupby(\"algorithm_group\").size()\n",
    "print(count_algorithms_groups)"
   ]
  },
  {
   "cell_type": "code",
   "execution_count": null,
   "id": "10a0e34e",
   "metadata": {},
   "outputs": [],
   "source": [
    "grouped_001 = complete_001[['dominant_state','algorithm_group','algorithm','Origin_program']].groupby(['dominant_state','algorithm_group','algorithm']).count()\n",
    "grouped_001"
   ]
  },
  {
   "cell_type": "code",
   "execution_count": null,
   "id": "46e341b8",
   "metadata": {},
   "outputs": [],
   "source": [
    "pd.set_option('display.max_rows', 600)\n",
    "grouped_001 = complete_001\n",
    "grouped_001 = grouped_001.replace(['ae'],'QP1')\n",
    "grouped_001 = grouped_001.replace(['dj'],'QP2')\n",
    "grouped_001 = grouped_001.replace(['ghz'],'QP3')\n",
    "grouped_001 = grouped_001.replace(['graphstate'],'QP4')\n",
    "grouped_001 = grouped_001.replace(['groundstatelarge'],'QP5')\n",
    "grouped_001 = grouped_001.replace(['groundstatemedium'],'QP6')\n",
    "grouped_001 = grouped_001.replace(['groundstatesmall'],'QP7')\n",
    "grouped_001 = grouped_001.replace(['grover-noancilla'],'QP8')\n",
    "grouped_001 = grouped_001.replace(['grover-v-chain'],'QP9')\n",
    "grouped_001 = grouped_001.replace(['portfolioqaoa'],'QP10')\n",
    "grouped_001 = grouped_001.replace(['portfoliovqe'],'QP11')\n",
    "grouped_001 = grouped_001.replace(['pricingcall'],'QP12')\n",
    "grouped_001 = grouped_001.replace(['pricingput'],'QP13')\n",
    "grouped_001 = grouped_001.replace(['qaoa'],'QP14')\n",
    "grouped_001 = grouped_001.replace(['qft'],'QP15')\n",
    "grouped_001 = grouped_001.replace(['qftentangled'],'QP16')\n",
    "grouped_001 = grouped_001.replace(['qgan'],'QP17')\n",
    "grouped_001 = grouped_001.replace(['qpeexact'],'QP18')\n",
    "grouped_001 = grouped_001.replace(['qpeinexact'],'QP19')\n",
    "grouped_001 = grouped_001.replace(['qwalk-noancilla'],'QP20')\n",
    "grouped_001 = grouped_001.replace(['qwalk-v-chain'],'QP21')\n",
    "grouped_001 = grouped_001.replace(['realamprandom'],'QP22')\n",
    "grouped_001 = grouped_001.replace(['routing'],'QP23')\n",
    "grouped_001 = grouped_001.replace(['su2random'],'QP24')\n",
    "grouped_001 = grouped_001.replace(['tsp'],'QP25')\n",
    "grouped_001 = grouped_001.replace(['twolocalrandom'],'QP26')\n",
    "grouped_001 = grouped_001.replace(['vqe'],'QP27')\n",
    "grouped_001 = grouped_001.replace(['wstate'],'QP28')\n",
    "grouped_001 = grouped_001[['algorithm','Gate','Origin_program']].groupby(['algorithm','Gate']).count()\n",
    "grouped_001"
   ]
  },
  {
   "cell_type": "code",
   "execution_count": null,
   "id": "99b9e5ec",
   "metadata": {},
   "outputs": [],
   "source": [
    "pd.set_option('display.max_rows', 100)\n",
    "grouped_001 = complete_001\n",
    "grouped_001 = grouped_001[['Operator','Gate','Origin_program']].groupby(['Operator','Gate']).count()\n",
    "grouped_001"
   ]
  },
  {
   "cell_type": "code",
   "execution_count": null,
   "id": "814b312d",
   "metadata": {},
   "outputs": [],
   "source": [
    "count_gates = complete_001.groupby(\"Gate\").size()\n",
    "print(count_gates)"
   ]
  },
  {
   "cell_type": "code",
   "execution_count": null,
   "id": "abb0001a",
   "metadata": {},
   "outputs": [],
   "source": [
    "#pd.set_option('display.max_rows', 90)\n",
    "count_scalability = complete_001.groupby('dominant_state').size()\n",
    "print(count_scalability)"
   ]
  },
  {
   "cell_type": "code",
   "execution_count": null,
   "id": "5decd3f8",
   "metadata": {
    "scrolled": true
   },
   "outputs": [],
   "source": [
    "count_operators = complete_001.groupby(\"Operator\").size()\n",
    "print(count_operators)"
   ]
  },
  {
   "cell_type": "code",
   "execution_count": null,
   "id": "2244d2b2",
   "metadata": {},
   "outputs": [],
   "source": [
    "count_gate_groups = complete_001.groupby(\"Gate_size\").size()\n",
    "print(count_gate_groups)"
   ]
  },
  {
   "cell_type": "code",
   "execution_count": null,
   "id": "fe98aa1d",
   "metadata": {},
   "outputs": [],
   "source": [
    "count_gate_types = complete_001.groupby(\"Gate_type\").size()\n",
    "print(count_gate_types)"
   ]
  },
  {
   "cell_type": "code",
   "execution_count": null,
   "id": "7fed9ebe",
   "metadata": {},
   "outputs": [],
   "source": [
    "count_positions = complete_001.groupby(\"Position_by_10\").size()\n",
    "print(count_positions)"
   ]
  },
  {
   "cell_type": "code",
   "execution_count": null,
   "id": "8d9033d6",
   "metadata": {},
   "outputs": [],
   "source": [
    "\n",
    "fig = make_subplots(rows=2, cols=5,specs=[[{},{},{}, {}, {}], [{},{},{},{\"colspan\": 2},None]], subplot_titles=('Killing types', 'Operator', \"Position\", \"Gate groups\", \"Gates\",  \"Gate sizes\", \"Dominant\", \"Algorithm groups\" ,'Algorithm'), vertical_spacing=0.12, horizontal_spacing=0.025, column_widths=[0.1, 0.1, 0.2, 0.2, 0.4])\n",
    "a = 1\n",
    "b = 1\n",
    "\n",
    "for column in ['Killed', 'Operator', \"Position_by_10\", \"Gate_type\", \"Gate\", \"Gate_size\",'dominant_state', \"algorithm_group\" ,'algorithm']:\n",
    "    \n",
    "    x = complete_001[column]\n",
    "    if column == 'algorithm':\n",
    "        x = x.replace(['ae'],'QP1')\n",
    "        x = x.replace(['dj'],'QP2')\n",
    "        x = x.replace(['ghz'],'QP3')\n",
    "        x = x.replace(['graphstate'],'QP4')\n",
    "        x = x.replace(['groundstatelarge'],'QP5')\n",
    "        x = x.replace(['groundstatemedium'],'QP6')\n",
    "        x = x.replace(['groundstatesmall'],'QP7')\n",
    "        x = x.replace(['grover-noancilla'],'QP8')\n",
    "        x = x.replace(['grover-v-chain'],'QP9')\n",
    "        x = x.replace(['portfolioqaoa'],'QP10')\n",
    "        x = x.replace(['portfoliovqe'],'QP11')\n",
    "        x = x.replace(['pricingcall'],'QP12')\n",
    "        x = x.replace(['pricingput'],'QP13')\n",
    "        x = x.replace(['qaoa'],'QP14')\n",
    "        x = x.replace(['qft'],'QP15')\n",
    "        x = x.replace(['qftentangled'],'QP16')\n",
    "        x = x.replace(['qgan'],'QP17')\n",
    "        x = x.replace(['qpeexact'],'QP18')\n",
    "        x = x.replace(['qpeinexact'],'QP19')\n",
    "        x = x.replace(['qwalk-noancilla'],'QP20')\n",
    "        x = x.replace(['qwalk-v-chain'],'QP21')\n",
    "        x = x.replace(['realamprandom'],'QP22')\n",
    "        x = x.replace(['routing'],'QP23')\n",
    "        x = x.replace(['su2random'],'QP24')\n",
    "        x = x.replace(['tsp'],'QP25')\n",
    "        x = x.replace(['twolocalrandom'],'QP26')\n",
    "        x = x.replace(['vqe'],'QP27')\n",
    "        x = x.replace(['wstate'],'QP28')\n",
    "    fig.add_trace(go.Histogram(x=x,  marker_color='#3182bd',), row= a, col=b)\n",
    "    \n",
    "    b = b + 1\n",
    "    if b > 5:\n",
    "        a = a + 1\n",
    "        b = 1\n",
    "\n",
    "fig.update_yaxes(title_text=\"Benchmarks\",title_standoff=0, row=1, col=1)\n",
    "fig.update_yaxes(title_text=\"Benchmarks\",title_standoff=0, row=2, col=1)\n",
    "fig.update_yaxes(tickfont=dict(size=8))\n",
    "fig.update_xaxes(tickfont=dict(size=8), tickangle=35)\n",
    "\n",
    "fig.update_layout(\n",
    "    bargap=0.1, # gap between bars of adjacent location coordinates\n",
    "    showlegend=False,\n",
    "     font=dict(size=12)\n",
    ")\n",
    "fig.update_annotations(font_size=12)\n",
    "config = {\n",
    "  'toImageButtonOptions': {\n",
    "    'format': 'svg', # one of png, svg, jpeg, webp\n",
    "    'filename': 'VariablesCountsBarPlot'\n",
    "  }\n",
    "}\n",
    "fig.show(config=config)"
   ]
  },
  {
   "cell_type": "markdown",
   "id": "827bd071",
   "metadata": {},
   "source": [
    "### Correlation"
   ]
  },
  {
   "cell_type": "code",
   "execution_count": null,
   "id": "ad3637df",
   "metadata": {},
   "outputs": [],
   "source": [
    "survivors = complete_001.replace('OPO', 0)\n",
    "survivors = survivors.replace('WOO', 0)\n",
    "survivors = survivors.replace('Survivor', 1)\n",
    "survivors.rename(columns = {'Killed':'Survived'}, inplace = True)\n",
    "survivors"
   ]
  },
  {
   "cell_type": "code",
   "execution_count": null,
   "id": "510f92d5",
   "metadata": {},
   "outputs": [],
   "source": [
    "correlation = survivors.corr()\n",
    "# Generate a mask for the upper triangle\n",
    "mask = np.triu(np.ones_like(correlation, dtype=bool))\n",
    "plt.clf()\n",
    "fig = plt.figure()\n",
    "sns.heatmap(correlation, annot=True, mask=mask)\n",
    "\n",
    "plt.show()"
   ]
  },
  {
   "cell_type": "code",
   "execution_count": null,
   "id": "54d27486",
   "metadata": {},
   "outputs": [],
   "source": [
    "correlation = survivors.corr()[['Survived']]\n",
    "correlation = correlation.drop('Survived')\n",
    "plt.clf()\n",
    "fig = plt.figure()\n",
    "sns.heatmap(correlation, annot=True)\n",
    "\n",
    "plt.show()"
   ]
  },
  {
   "cell_type": "markdown",
   "id": "6c8c83a0",
   "metadata": {},
   "source": [
    "### Distribution"
   ]
  },
  {
   "cell_type": "code",
   "execution_count": null,
   "id": "76e0a89a",
   "metadata": {},
   "outputs": [],
   "source": [
    "complete_001.hist(bins=15,\n",
    "                 color='steelblue',\n",
    "                 edgecolor='black', linewidth=1.0,\n",
    "                 xlabelsize=10, ylabelsize=10,\n",
    "                 xrot=45, yrot=0,\n",
    "                 figsize=(10,9),\n",
    "                 grid=False)"
   ]
  },
  {
   "cell_type": "code",
   "execution_count": null,
   "id": "d880a894",
   "metadata": {},
   "outputs": [],
   "source": [
    "complete_001.columns"
   ]
  },
  {
   "cell_type": "code",
   "execution_count": null,
   "id": "33186afc",
   "metadata": {
    "scrolled": true
   },
   "outputs": [],
   "source": [
    "colors = {'OPO': \"#F28E2B\", 'WOO': \"#4E79A7\", 'Survivor': \"#16CD0A\"}\n",
    "for column in ['algorithm', 'qubits', 'gates', 'measurement_gates',\n",
    "       'depth', 'singlequbit_gates', 'multiqubit_gates', 'entangled_qubits',\n",
    "       'Operator', 'Gate', 'Gate_size','Gate_type', 'Position', 'Operator_gate',\n",
    "       'Operator_position', 'Gate_position', 'Operator_gate_position', 'dominant_state']:\n",
    "    x,y = column, 'Killed'\n",
    "\n",
    "    df1 = complete_001.groupby(x)[y].value_counts(normalize=True)\n",
    "    df1 = df1.mul(100)\n",
    "    df1 = df1.rename('percent').reset_index()\n",
    "\n",
    "    g = sns.catplot(x=x,y='percent',hue=y,kind='bar',data=df1, aspect=2, palette=colors)\n",
    "    g.ax.set_ylim(0,100)\n",
    "\n",
    "    for p in g.ax.patches:\n",
    "        txt = str(p.get_height().round(2)) + '%'\n",
    "        txt_x = p.get_x() \n",
    "        txt_y = p.get_height()\n",
    "        g.ax.text(txt_x,txt_y,txt)\n",
    "        g.set_xticklabels(rotation=90)"
   ]
  },
  {
   "cell_type": "code",
   "execution_count": null,
   "id": "1ddadfbd",
   "metadata": {},
   "outputs": [],
   "source": [
    "\n",
    "fig = make_subplots(rows=2, cols=2, specs=[[{}, {}], [{\"colspan\": 2},None]], vertical_spacing=0.15, horizontal_spacing=0.025, subplot_titles=('Dominant', 'Algorithm Group', 'Algorithm'), column_widths=[0.2, 0.8])\n",
    "a = 1\n",
    "b = 1\n",
    "colors_dominant = [\"#3182bd\", \"#9ecae1\"]\n",
    "colors_algorithm = [\"#3182bd\",\"#9ecae1\",\"#3182bd\",\"#3182bd\",\"#3182bd\",\"#3182bd\",\"#3182bd\",\"#3182bd\",\"#3182bd\",\"#3182bd\",\"#9ecae1\",\"#3182bd\",\"#3182bd\",\"#3182bd\",\"#3182bd\",\"#3182bd\",\"#9ecae1\",\"#9ecae1\",\"#9ecae1\",\"#3182bd\",\"#3182bd\",\"#9ecae1\",\"#9ecae1\",\"#9ecae1\",\"#3182bd\",\"#9ecae1\",\"#3182bd\",\"#3182bd\"]\n",
    "colors_algorithm_group = [\"#3182bd\",\"#3182bd\",\"#9ecae1\",\"#9ecae1\",\"#3182bd\",\"#3182bd\",\"#3182bd\",\"#9ecae1\",\"#9ecae1\",\"#9ecae1\",\"#9ecae1\",\"#9ecae1\"]\n",
    "\n",
    "for column in ['dominant_state', 'algorithm_group', 'algorithm']:\n",
    "\n",
    "\n",
    "    df1 = complete_001.groupby(column)['Killed'].value_counts(normalize=True)\n",
    "    df1 = df1.mul(100)\n",
    "    df1 = df1.rename('SR').reset_index()\n",
    "    df_surv = df1[df1['Killed']=='Survivor']\n",
    "    df_surv = df_surv.sort_values('SR', ascending=False)\n",
    "    x = df_surv\n",
    "    if column == 'algorithm':\n",
    "        x = x.replace(['ae'],'QP1') \n",
    "        x = x.replace(['dj'],'QP2') \n",
    "        x = x.replace(['ghz'],'QP3')\n",
    "        x = x.replace(['graphstate'],'QP4')\n",
    "        x = x.replace(['groundstatelarge'],'QP5') \n",
    "        x = x.replace(['groundstatemedium'],'QP6') \n",
    "        x = x.replace(['groundstatesmall'],'QP7') \n",
    "        x = x.replace(['grover-noancilla'],'QP8') \n",
    "        x = x.replace(['grover-v-chain'],'QP9') \n",
    "        x = x.replace(['portfolioqaoa'],'QP10') \n",
    "        x = x.replace(['portfoliovqe'],'QP11') \n",
    "        x = x.replace(['pricingcall'],'QP12') \n",
    "        x = x.replace(['pricingput'],'QP13') \n",
    "        x = x.replace(['qaoa'],'QP14') \n",
    "        x = x.replace(['qft'],'QP15')\n",
    "        x = x.replace(['qftentangled'],'QP16')\n",
    "        x = x.replace(['qgan'],'QP17')\n",
    "        x = x.replace(['qpeexact'],'QP18') \n",
    "        x = x.replace(['qpeinexact'],'QP19') \n",
    "        x = x.replace(['qwalk-noancilla'],'QP20')\n",
    "        x = x.replace(['qwalk-v-chain'],'QP21')\n",
    "        x = x.replace(['realamprandom'],'QP22') \n",
    "        x = x.replace(['routing'],'QP23') \n",
    "        x = x.replace(['su2random'],'QP24') \n",
    "        x = x.replace(['tsp'],'QP25') \n",
    "        x = x.replace(['twolocalrandom'],'QP26') \n",
    "        x = x.replace(['vqe'],'QP27') \n",
    "        x = x.replace(['wstate'],'QP28')\n",
    "        fig.add_trace(go.Bar(x=x[column],y=x['SR'],  marker_color=colors_algorithm, text=round(x['SR'],1),textposition='outside', textfont=dict(size=8)), row= a, col=b)\n",
    "    elif column == 'algorithm_group':\n",
    "        fig.add_trace(go.Bar(x=x[column],y=x['SR'],  marker_color=colors_algorithm_group, text=round(x['SR'],1),textposition='outside', textfont=dict(size=8)), row= a, col=b)\n",
    "    else:\n",
    "        fig.add_trace(go.Bar(x=x[column],y=x['SR'],  marker_color=colors_dominant, text=round(x['SR'],1),textposition='outside', textfont=dict(size=8)), row= a, col=b)\n",
    "\n",
    "        \n",
    "    b = b + 1\n",
    "    if b > 2:\n",
    "        a = a + 1\n",
    "        b = 1\n",
    "\n",
    "fig.update_xaxes(type='category',tickfont=dict(size=8), tickangle=35)\n",
    "fig.update_yaxes(title_text=\"SR\",title_standoff=0,row=1, col=1, range = [0,100])\n",
    "fig.update_yaxes(row=1, col=2, range = [0,100])\n",
    "fig.update_yaxes(title_text=\"SR\",title_standoff=0,row=2, col=1, range = [0,100])\n",
    "fig.update_yaxes(tickfont=dict(size=8))\n",
    "\n",
    "\n",
    "fig.update_layout(\n",
    "    bargap=0.1, # gap between bars of adjacent location coordinates\n",
    "    showlegend=False,\n",
    "    autosize=False,\n",
    "    height=400,\n",
    "    width=700,\n",
    "    font=dict(size=12)\n",
    ")\n",
    "fig.update_annotations(font_size=12)\n",
    "config = {\n",
    "  'toImageButtonOptions': {\n",
    "    'format': 'svg', # one of png, svg, jpeg, webp\n",
    "    'filename': 'algorithmRanking'\n",
    "  }\n",
    "}\n",
    "fig.show(config=config)"
   ]
  },
  {
   "cell_type": "code",
   "execution_count": null,
   "id": "c68d8269",
   "metadata": {},
   "outputs": [],
   "source": [
    "\n",
    "fig = make_subplots(rows=2, cols=3, vertical_spacing=0.15, horizontal_spacing=0.03, specs=[[{}, {}, {}], [{\"colspan\": 2},None, {}]], subplot_titles=('Operator', 'Gate size', 'Position' , 'Gate', 'Gate type'), column_widths=[0.35, 0.2, 0.45])\n",
    "a = 1\n",
    "b = 1\n",
    "\n",
    "for column in ['Operator', 'Gate_size', 'Position_by_10' , 'Gate', 'Gate_type']:\n",
    "\n",
    "\n",
    "    df1 = complete_001.groupby(column)['Killed'].value_counts(normalize=True)\n",
    "    df1 = df1.mul(100)\n",
    "    df1 = df1.rename('SR').reset_index()\n",
    "    df_surv = df1[df1['Killed']=='Survivor']\n",
    "    df_surv = df_surv.sort_values('SR', ascending=False)\n",
    "    if b == 2 & a == 2:\n",
    "        b = 3\n",
    "    fig.add_trace(go.Bar(x=df_surv[column],y=df_surv['SR'],  marker_color='#3182bd', text=round(df_surv['SR'],1),\n",
    "            textposition='outside', textfont=dict(size=8)), row= a, col=b)\n",
    "    \n",
    "    b = b + 1\n",
    "    if b > 3:\n",
    "        a = a + 1\n",
    "        b = 1\n",
    "\n",
    "fig.update_xaxes(type='category',tickfont=dict(size=8), tickangle=35)\n",
    "fig.update_yaxes(title_text=\"SR\",title_standoff=0,row=1, col=1, range = [0,100],tickfont=dict(size=8))\n",
    "fig.update_yaxes(row=1, col=2, range = [0,100],tickfont=dict(size=8))\n",
    "fig.update_yaxes(row=1, col=3, range = [0,100],tickfont=dict(size=8))\n",
    "fig.update_yaxes(title_text=\"SR\",title_standoff=0,row=2, col=1, range = [0,110],tickfont=dict(size=8))\n",
    "fig.update_yaxes(row=2, col=3, range = [0,100],tickfont=dict(size=8))\n",
    "\n",
    "fig.update_layout(\n",
    "    bargap=0.1, # gap between bars of adjacent location coordinates\n",
    "    showlegend=False,\n",
    "    autosize=False,\n",
    "    height=400,\n",
    "    width=800,\n",
    "    font=dict(size=12)\n",
    ")\n",
    "fig.update_annotations(font_size=12)\n",
    "\n",
    "config = {\n",
    "  'toImageButtonOptions': {\n",
    "    'format': 'svg', # one of png, svg, jpeg, webp\n",
    "    'filename': 'MutantCharacteristicsRanking'\n",
    "  }\n",
    "}\n",
    "fig.show(config=config)"
   ]
  },
  {
   "cell_type": "markdown",
   "id": "eec00c26",
   "metadata": {},
   "source": [
    "### Pattern"
   ]
  },
  {
   "cell_type": "code",
   "execution_count": null,
   "id": "44d2e121",
   "metadata": {},
   "outputs": [],
   "source": [
    "\n",
    "fig = make_subplots(rows=2, cols=4, subplot_titles=('Qubits_SR', 'Gates_SR', 'Measurement_gates_SR',\n",
    "       'Depth_SR', 'Singlequbit_gates_SR', 'Multiqubit_gates_SR', 'Entangled_qubits_SR', 'Position_SR'), vertical_spacing=0.15, horizontal_spacing=0.05)\n",
    "a = 1\n",
    "b = 1\n",
    "\n",
    "for column in ['qubits', 'gates', 'measurement_gates',\n",
    "       'depth', 'singlequbit_gates', 'multiqubit_gates', 'entangled_qubits', 'Position_by_10']:\n",
    "\n",
    "\n",
    "\n",
    "    df1 = complete_001.groupby(column)['Killed'].value_counts(normalize=True)\n",
    "    df1 = df1.rename('Survival_rate').reset_index()\n",
    "    df_surv = df1[df1['Killed']=='Survivor']\n",
    "    x = df_surv[column]\n",
    "    y = df_surv['Survival_rate']\n",
    "    \n",
    "    fig.add_trace(go.Scatter(x=x, y=y, name=\"linear\",line_shape='spline', line=dict(color=\"#000000\"), mode='lines'), row= a, col=b)\n",
    "    fig.update_yaxes(row=a, col=b, range = [0,1])\n",
    "    \n",
    "    b = b + 1\n",
    "    if b > 4:\n",
    "        a = a + 1\n",
    "        b = 1\n",
    "\n",
    "fig.update_yaxes(title_text=\"Survival_rate\", row=1, col=1)\n",
    "fig.update_yaxes(title_text=\"Survival_rate\", row=2, col=1)\n",
    "\n",
    "fig.update_layout( showlegend=False)\n",
    "fig.show()"
   ]
  },
  {
   "cell_type": "markdown",
   "id": "b9f40767",
   "metadata": {},
   "source": [
    "### Violin/Box plots"
   ]
  },
  {
   "cell_type": "code",
   "execution_count": null,
   "id": "d7e75b7c",
   "metadata": {},
   "outputs": [],
   "source": [
    "    #pd.set_option('display.max_rows', 90)\n",
    "grouped_001 = complete_001[['algorithm','Killed','Origin_program']].groupby(['Killed','algorithm']).count()\n",
    "grouped_001['Origin_program'] = grouped_001.groupby(level = 1).transform(lambda x: x/x.sum())\n"
   ]
  },
  {
   "cell_type": "code",
   "execution_count": null,
   "id": "6c881fbc",
   "metadata": {},
   "outputs": [],
   "source": [
    "grouped_001"
   ]
  },
  {
   "cell_type": "code",
   "execution_count": null,
   "id": "f6c58cf3",
   "metadata": {},
   "outputs": [],
   "source": [
    "only_opo = grouped_001.iloc[grouped_001.index.get_level_values('Killed') == 'OPO']\n",
    "only_opo.index = only_opo.index.droplevel('Killed')\n"
   ]
  },
  {
   "cell_type": "code",
   "execution_count": null,
   "id": "c163b533",
   "metadata": {},
   "outputs": [],
   "source": [
    "only_woo = grouped_001.iloc[grouped_001.index.get_level_values('Killed') == 'WOO']\n",
    "only_woo.index = only_woo.index.droplevel('Killed')\n"
   ]
  },
  {
   "cell_type": "code",
   "execution_count": null,
   "id": "d77eacf6",
   "metadata": {},
   "outputs": [],
   "source": [
    "only_sur = grouped_001.iloc[grouped_001.index.get_level_values('Killed') == 'Survivor']\n",
    "only_sur.index = only_sur.index.droplevel('Killed')\n"
   ]
  },
  {
   "cell_type": "code",
   "execution_count": null,
   "id": "eff78292",
   "metadata": {},
   "outputs": [],
   "source": [
    "only_sur_df = only_sur.reset_index()"
   ]
  },
  {
   "cell_type": "code",
   "execution_count": null,
   "id": "2fc597c8",
   "metadata": {},
   "outputs": [],
   "source": [
    "only_opo_df = only_opo.reset_index()"
   ]
  },
  {
   "cell_type": "code",
   "execution_count": null,
   "id": "f0a79b30",
   "metadata": {},
   "outputs": [],
   "source": [
    "only_woo_df = only_woo.reset_index()"
   ]
  },
  {
   "cell_type": "code",
   "execution_count": null,
   "id": "c79a87ba",
   "metadata": {},
   "outputs": [],
   "source": [
    "only_sur_df.rename(columns = {'Origin_program':'Sur_percentage'}, inplace = True)\n",
    "only_opo_df.rename(columns = {'Origin_program':'Opo_percentage'}, inplace = True)\n",
    "only_woo_df.rename(columns = {'Origin_program':'Woo_percentage'}, inplace = True)\n",
    "only_sur_df=only_sur_df.set_index('algorithm')\n",
    "only_opo_df=only_opo_df.set_index('algorithm')\n",
    "only_woo_df=only_woo_df.set_index('algorithm')"
   ]
  },
  {
   "cell_type": "code",
   "execution_count": null,
   "id": "83aa0ce7",
   "metadata": {},
   "outputs": [],
   "source": [
    "full_percentages = only_woo_df.join(only_opo_df)\n",
    "full_percentages = full_percentages.join(only_sur_df)\n",
    "full_percentages = full_percentages.fillna(0)\n"
   ]
  },
  {
   "cell_type": "code",
   "execution_count": null,
   "id": "bd480d04",
   "metadata": {},
   "outputs": [],
   "source": [
    "full_percentages_reseted = full_percentages.reset_index()"
   ]
  },
  {
   "cell_type": "code",
   "execution_count": null,
   "id": "0c0341db",
   "metadata": {},
   "outputs": [],
   "source": [
    "full_percentages_reseted[['algorithm','Sur_percentage']]"
   ]
  },
  {
   "cell_type": "code",
   "execution_count": null,
   "id": "64b67c2d",
   "metadata": {},
   "outputs": [],
   "source": [
    "\n",
    "\n",
    "fig = go.Figure()\n",
    "fig.add_trace(go.Violin(y=full_percentages_reseted['Woo_percentage'], name='WOO',\n",
    "                marker_color = '#4E79A7',  hovertext=full_percentages_reseted['algorithm'], spanmode = 'hard'))\n",
    "fig.add_trace(go.Violin(y=full_percentages_reseted['Opo_percentage'], name='OPO',\n",
    "                marker_color = '#F28E2B',  hovertext=full_percentages_reseted['algorithm'], spanmode = 'hard'))\n",
    "fig.add_trace(go.Violin(y=full_percentages_reseted['Sur_percentage'], name='Survivors',\n",
    "                marker_color = '#16CD0A',  hovertext=full_percentages_reseted['algorithm'], spanmode = 'hard'))\n",
    "fig.update_layout(\n",
    "    title=\"Violin plot algorithms\",\n",
    "    xaxis_title=\"Killing\",\n",
    "    yaxis_title=\"Rate\",\n",
    "    font=dict(\n",
    "        size=18\n",
    "    )\n",
    ")\n",
    "fig.add_annotation(x='OPO', y=0.703, text=\"groundstatesmall\", showarrow=True, arrowhead=1,arrowsize=1,arrowwidth=1,ax=80,ay=-30, font=dict(size=16))\n",
    "fig.add_annotation(x='OPO', y=0.097, text=\"graphstate\", showarrow=True, arrowhead=1,arrowsize=1,arrowwidth=1,ax=100,ay=-10, font=dict(size=16))\n",
    "\n",
    "\n",
    "\n",
    "fig.show()"
   ]
  },
  {
   "cell_type": "code",
   "execution_count": null,
   "id": "6bc07bcd",
   "metadata": {},
   "outputs": [],
   "source": [
    "complete_001['algorithm'].unique()"
   ]
  },
  {
   "cell_type": "code",
   "execution_count": null,
   "id": "e1ab5aee",
   "metadata": {},
   "outputs": [],
   "source": [
    "\n",
    "fig = go.Figure()\n",
    "c = ['hsl('+str(h)+',50%'+',50%)' for h in np.linspace(0, 360, 28)]\n",
    "i = 0\n",
    "\n",
    "for algorithm in complete_001['algorithm'].unique():\n",
    "    df_alg = complete_001[complete_001['algorithm']== algorithm]\n",
    "    \n",
    "    df_alg_grouped = df_alg.groupby(['Origin_program'])['Killed'].value_counts(normalize=True)\n",
    "    df_alg_survivors = df_alg_grouped.iloc[df_alg_grouped.index.get_level_values('Killed') == 'Survivor']\n",
    "    df_alg_survivors.index = df_alg_survivors.index.droplevel('Killed')\n",
    "    fig.add_trace(go.Box(y=df_alg_survivors, name=algorithm, marker_color = c[i],hovertext=df_alg_survivors.index))\n",
    "    i = i + 1\n",
    "\n",
    "\n",
    "\n",
    "fig.show()"
   ]
  },
  {
   "cell_type": "code",
   "execution_count": null,
   "id": "15b7289b",
   "metadata": {},
   "outputs": [],
   "source": [
    "\n",
    "\n",
    "c = ['hsl('+str(h)+',50%'+',50%)' for h in np.linspace(0, 360, 12)]\n",
    "i = 0\n",
    "fig = go.Figure()\n",
    "\n",
    "for algorithm in complete_001['algorithm_group'].unique():\n",
    "    df_alg = complete_001[complete_001['algorithm_group']== algorithm]\n",
    "    \n",
    "    df_alg_grouped = df_alg.groupby(['algorithm'])['Killed'].value_counts(normalize=True)\n",
    "    df_alg_survivors = df_alg_grouped.iloc[df_alg_grouped.index.get_level_values('Killed') == 'Survivor']\n",
    "    df_alg_survivors.index = df_alg_survivors.index.droplevel('Killed')\n",
    "    fig.add_trace(go.Box(y=df_alg_survivors, name=algorithm, marker_color = c[i],hovertext=df_alg_survivors.index))\n",
    "    i = i + 1\n",
    "\n",
    "\n",
    "fig.show()"
   ]
  },
  {
   "cell_type": "markdown",
   "id": "bde8c976",
   "metadata": {},
   "source": [
    "# Heatmaps"
   ]
  },
  {
   "cell_type": "code",
   "execution_count": null,
   "id": "75004444",
   "metadata": {},
   "outputs": [],
   "source": [
    "\n",
    "\n",
    "fig = make_subplots(rows=1, cols=3, subplot_titles=('Operator','Gate type','Gate'), vertical_spacing=0.01, horizontal_spacing=0.01, column_widths=[0.1,0.3,0.6], shared_yaxes=True)\n",
    "a = 1\n",
    "b = 1\n",
    "for column in ['Operator', 'Gate_type', 'Gate']:\n",
    "    df_grouped = complete_001.groupby([column,'Position_by_10'])['Killed'].value_counts(normalize=True)\n",
    "    only_sur = df_grouped.iloc[df_grouped.index.get_level_values('Killed') == 'Survivor']\n",
    "    only_sur.index = only_sur.index.droplevel('Killed')\n",
    "    only_sur_df = only_sur.reset_index()\n",
    "    fig.add_trace(go.Heatmap(z=only_sur_df['Killed'],y=only_sur_df['Position_by_10'],x=only_sur_df[column], colorscale=[[0.0, '#FFFFFF'], [0.2, '#eff3ff'], [0.4, '#9ecae1'],[0.6, '#6baed6'], [0.8, '#3182bd'], [1.0, '#08519c']], text=round(only_sur_df['Killed'],3), texttemplate=\"%{text}\", textfont=dict(size=8), showscale=False), row= a, col=b)\n",
    "    b = b + 1\n",
    "    if b > 3:\n",
    "        a = a + 1\n",
    "        b = 1\n",
    "\n",
    "\n",
    "fig.update_yaxes(title_text=\"Positions\",title_standoff=0, row=1, col=1, type='category')\n",
    "fig.update_yaxes(showline=True, linewidth=1, linecolor='black', mirror=True, tickfont=dict(size=8))\n",
    "fig.update_xaxes(type='category', tickangle=35, showline=True, linewidth=1, linecolor='black', mirror=True,tickfont=dict(size=8))\n",
    "\n",
    "fig.update_layout(\n",
    "    autosize=False,\n",
    "    height=400,\n",
    "    width=1000,\n",
    "    plot_bgcolor='white',\n",
    "    font=dict(size=12))\n",
    "fig.update_annotations(font_size=12)\n",
    "config = {\n",
    "  'toImageButtonOptions': {\n",
    "    'format': 'svg', # one of png, svg, jpeg, webp\n",
    "    'filename': 'HeatmapPositions'\n",
    "  }\n",
    "}\n",
    "fig.show(config=config)\n"
   ]
  },
  {
   "cell_type": "code",
   "execution_count": null,
   "id": "c3f166b2",
   "metadata": {},
   "outputs": [],
   "source": [
    "\n",
    "\n",
    "fig = make_subplots(rows=1, cols=2, subplot_titles=('Gate type','Gate'), vertical_spacing=0.01, horizontal_spacing=0.01, column_widths=[0.3,0.7], shared_yaxes=True)\n",
    "a = 1\n",
    "b = 1\n",
    "for column in ['Gate_type', 'Gate']:\n",
    "    df_grouped = complete_001.groupby([column,'Operator'])['Killed'].value_counts(normalize=True)\n",
    "    only_sur = df_grouped.iloc[df_grouped.index.get_level_values('Killed') == 'Survivor']\n",
    "    only_sur.index = only_sur.index.droplevel('Killed')\n",
    "    only_sur_df = only_sur.reset_index()\n",
    "    fig.add_trace(go.Heatmap(z=only_sur_df['Killed'],y=only_sur_df['Operator'],x=only_sur_df[column], colorscale=[[0.0, '#FFFFFF'], [0.2, '#eff3ff'], [0.4, '#9ecae1'],[0.6, '#6baed6'], [0.8, '#3182bd'], [1.0, '#08519c']], text=round(only_sur_df['Killed'],3), texttemplate=\"%{text}\", textfont=dict(size=8), showscale=False), row= a, col=b)\n",
    "    b = b + 1\n",
    "    if b > 2:\n",
    "        a = a + 1\n",
    "        b = 1\n",
    "\n",
    "fig.update_yaxes(title_text=\"Operator\",title_standoff=0, row=1, col=1, type='category')\n",
    "fig.update_yaxes(showline=True, linewidth=1, linecolor='black', mirror=True, tickfont=dict(size=8))\n",
    "fig.update_xaxes(type='category', tickangle=35, showline=True, linewidth=1, linecolor='black', mirror=True, tickfont=dict(size=8))\n",
    "fig.update_layout(\n",
    "    autosize=False,\n",
    "    height=250,\n",
    "    width=900,\n",
    "    plot_bgcolor='white')\n",
    "fig.update_annotations(font_size=12)\n",
    "config = {\n",
    "  'toImageButtonOptions': {\n",
    "    'format': 'svg', # one of png, svg, jpeg, webp\n",
    "    'filename': 'HeatmapOperator'\n",
    "  }\n",
    "}\n",
    "fig.show(config=config)"
   ]
  },
  {
   "cell_type": "code",
   "execution_count": null,
   "id": "27781d44",
   "metadata": {
    "scrolled": false
   },
   "outputs": [],
   "source": [
    "fig = make_subplots(rows=3, cols=4, subplot_titles=('Operator', 'Gate type', 'Gate', 'Position'), vertical_spacing=0.01, horizontal_spacing=0.01, column_widths=[0.09,0.22,0.45,0.24], row_heights=[0.6,0.35,0.05], shared_yaxes=True, shared_xaxes=True)\n",
    "a = 1\n",
    "b = 1\n",
    "x = complete_001\n",
    "x = x.replace(['ae'],'QP1')\n",
    "x = x.replace(['dj'],'QP2')\n",
    "x = x.replace(['ghz'],'QP3')\n",
    "x = x.replace(['graphstate'],'QP4')\n",
    "x = x.replace(['groundstatelarge'],'QP5')\n",
    "x = x.replace(['groundstatemedium'],'QP6')\n",
    "x = x.replace(['groundstatesmall'],'QP7')\n",
    "x = x.replace(['grover-noancilla'],'QP8')\n",
    "x = x.replace(['grover-v-chain'],'QP9')\n",
    "x = x.replace(['portfolioqaoa'],'QP10')\n",
    "x = x.replace(['portfoliovqe'],'QP11')\n",
    "x = x.replace(['pricingcall'],'QP12')\n",
    "x = x.replace(['pricingput'],'QP13')\n",
    "x = x.replace(['qaoa'],'QP14')\n",
    "x = x.replace(['qft'],'QP15')\n",
    "x = x.replace(['qftentangled'],'QP16')\n",
    "x = x.replace(['qgan'],'QP17')\n",
    "x = x.replace(['qpeexact'],'QP18')\n",
    "x = x.replace(['qpeinexact'],'QP19')\n",
    "x = x.replace(['qwalk-noancilla'],'QP20')\n",
    "x = x.replace(['qwalk-v-chain'],'QP21')\n",
    "x = x.replace(['realamprandom'],'QP22')\n",
    "x = x.replace(['routing'],'QP23')\n",
    "x = x.replace(['su2random'],'QP24')\n",
    "x = x.replace(['tsp'],'QP25')\n",
    "x = x.replace(['twolocalrandom'],'QP26')\n",
    "x = x.replace(['vqe'],'QP27')\n",
    "x = x.replace(['wstate'],'QP28')\n",
    "for column in ['Operator', 'Gate_type', 'Gate', 'Position_by_10']:\n",
    "    df_grouped = x.groupby([column,'algorithm'])['Killed'].value_counts(normalize=True)\n",
    "    only_sur = df_grouped.iloc[df_grouped.index.get_level_values('Killed') == 'Survivor']\n",
    "    only_sur.index = only_sur.index.droplevel('Killed')\n",
    "    only_sur_df = only_sur.reset_index()\n",
    "\n",
    "    fig.add_trace(go.Heatmap(z=only_sur_df['Killed'],y=only_sur_df['algorithm'],x=only_sur_df[column], colorscale=[[0.0, '#FFFFFF'], [0.2, '#eff3ff'], [0.4, '#9ecae1'],[0.6, '#6baed6'], [0.8, '#3182bd'], [1.0, '#08519c']], text=round(only_sur_df['Killed'],2), texttemplate=\"%{text}\", textfont=dict(size=8), showscale=False), row= a, col=b)\n",
    "    b = b + 1\n",
    "    if b > 4:\n",
    "        a = a + 1\n",
    "        b = 1\n",
    "for column in ['Operator', 'Gate_type', 'Gate', 'Position_by_10']:\n",
    "    df_grouped = complete_001.groupby([column,'algorithm_group'])['Killed'].value_counts(normalize=True)\n",
    "    only_sur = df_grouped.iloc[df_grouped.index.get_level_values('Killed') == 'Survivor']\n",
    "    only_sur.index = only_sur.index.droplevel('Killed')\n",
    "    only_sur_df = only_sur.reset_index()\n",
    "    fig.add_trace(go.Heatmap(z=only_sur_df['Killed'],y=only_sur_df['algorithm_group'],x=only_sur_df[column], colorscale=[[0.0, '#FFFFFF'], [0.2, '#eff3ff'], [0.4, '#9ecae1'],[0.6, '#6baed6'], [0.8, '#3182bd'], [1.0, '#08519c']], text=round(only_sur_df['Killed'],2), texttemplate=\"%{text}\", textfont=dict(size=8), showscale=False), row= a, col=b)\n",
    "    b = b + 1\n",
    "    if b > 4:\n",
    "        a = a + 1\n",
    "        b = 1\n",
    "for column in ['Operator', 'Gate_type', 'Gate', 'Position_by_10']:\n",
    "    df_grouped = complete_001.groupby([column,'dominant_state'])['Killed'].value_counts(normalize=True)\n",
    "    only_sur = df_grouped.iloc[df_grouped.index.get_level_values('Killed') == 'Survivor']\n",
    "    only_sur.index = only_sur.index.droplevel('Killed')\n",
    "    only_sur_df = only_sur.reset_index()\n",
    "    fig.add_trace(go.Heatmap(z=only_sur_df['Killed'],y=only_sur_df['dominant_state'],x=only_sur_df[column], colorscale=[[0.0, '#FFFFFF'], [0.2, '#eff3ff'], [0.4, '#9ecae1'],[0.6, '#6baed6'], [0.8, '#3182bd'], [1.0, '#08519c']], text=round(only_sur_df['Killed'],2), texttemplate=\"%{text}\", textfont=dict(size=8), showscale=False), row= a, col=b)\n",
    "    b = b + 1\n",
    "    if b > 4:\n",
    "        a = a + 1\n",
    "        b = 1\n",
    "        \n",
    "        \n",
    "fig.update_yaxes(title_text=\"Algorithm\",title_standoff=0, row=1, col=1,type='category')\n",
    "fig.update_yaxes(title_text=\"Algorithm group\",title_standoff=0, row=2, col=1,type='category')\n",
    "fig.update_yaxes(title_text=\"Dominant\",title_standoff=0, row=3, col=1,type='category')\n",
    "fig.update_yaxes(showline=True, linewidth=1, linecolor='black', mirror=True, tickfont=dict(size=8))\n",
    "\n",
    "fig.update_xaxes(type='category', tickangle=35, showline=True, linewidth=1, linecolor='black', mirror=True, tickfont=dict(size=8))\n",
    "fig.update_layout(\n",
    "    autosize=False,\n",
    "    height=1000,\n",
    "    width=1100,\n",
    "    plot_bgcolor='white')\n",
    "fig.update_annotations(font_size=12)\n",
    "config = {\n",
    "  'toImageButtonOptions': {\n",
    "    'format': 'svg', # one of png, svg, jpeg, webp\n",
    "    'filename': 'HeatmapRQ4'\n",
    "  }\n",
    "}\n",
    "fig.show(config=config)"
   ]
  },
  {
   "cell_type": "markdown",
   "id": "6f703f37",
   "metadata": {},
   "source": [
    "# 3D\n"
   ]
  },
  {
   "cell_type": "code",
   "execution_count": null,
   "id": "42dfe665",
   "metadata": {},
   "outputs": [],
   "source": [
    "df_grouped = complete_001.groupby(['Operator','Gate', 'Position_by_10'])['Killed'].value_counts(normalize=True)\n",
    "only_sur = df_grouped.iloc[df_grouped.index.get_level_values('Killed') == 'Survivor']\n",
    "only_sur.index = only_sur.index.droplevel('Killed')\n",
    "only_sur_df = only_sur.reset_index()\n",
    "only_sur_df.rename(columns = {'Killed':'Survival_rate'}, inplace = True)\n",
    "only_sur_df"
   ]
  },
  {
   "cell_type": "code",
   "execution_count": null,
   "id": "9c0fd0d0",
   "metadata": {},
   "outputs": [],
   "source": [
    "import plotly.express as px\n",
    "\n",
    "fig = px.scatter_3d(only_sur_df, x='Operator', y='Position_by_10', z='Gate', color='Survival_rate', opacity=0.7)\n",
    "\n",
    "\n",
    "fig.show()"
   ]
  },
  {
   "cell_type": "markdown",
   "id": "07352090",
   "metadata": {},
   "source": [
    "# Top5/Low5"
   ]
  },
  {
   "cell_type": "markdown",
   "id": "0099f4b2",
   "metadata": {},
   "source": [
    "## 3 variables"
   ]
  },
  {
   "cell_type": "markdown",
   "id": "4c0f8c20",
   "metadata": {},
   "source": [
    "### RQ1"
   ]
  },
  {
   "cell_type": "code",
   "execution_count": null,
   "id": "2c814f12",
   "metadata": {},
   "outputs": [],
   "source": [
    "df_tops = pd.DataFrame(columns=['Combination',1,2,3,4,5])\n",
    "for x in ['Operator']:\n",
    "    for y in ['Gate', 'Gate_type', 'Gate_size']:\n",
    "        if x != y:\n",
    "            df1 = complete_001.groupby([x, y, 'Position_by_10'])['Killed'].value_counts(normalize=True)\n",
    "            df1 = df1.rename('SR').reset_index()\n",
    "            df_surv = df1[df1['Killed']=='Survivor']\n",
    "            df_top=df_surv.sort_values(by=['SR'], ascending=False)[[x,y,'Position_by_10','SR']].head(5)\n",
    "            df_top[\"Result\"] = df_top[x].astype(str) +\"_\"+ df_top[y].astype(str) +\"_\"+ df_top[\"Position_by_10\"].astype(str) +\"{\"+ round(df_top[\"SR\"],2).astype(str) +'}'\n",
    "            result_row = df_top[\"Result\"]\n",
    "            combination = x +\"_\"+ y +\"_Position_by_10\"\n",
    "            row = [combination,]\n",
    "            for value in result_row:\n",
    "                row.append(value)\n",
    "            df_tops.loc[len(df_tops)] = row\n",
    "            \n",
    "df_tops"
   ]
  },
  {
   "cell_type": "code",
   "execution_count": null,
   "id": "d1f6626d",
   "metadata": {},
   "outputs": [],
   "source": [
    "df_lows = pd.DataFrame(columns=['Combination',1,2,3,4,5])\n",
    "for x in ['Operator']:\n",
    "    for y in ['Gate', 'Gate_type', 'Gate_size']:\n",
    "        if x != y:\n",
    "            df1 = complete_001.groupby([x, y, 'Position_by_10'])['Killed'].value_counts(normalize=True)\n",
    "            df1 = df1.rename('SR').reset_index()\n",
    "            df_surv = df1[df1['Killed']=='Survivor']\n",
    "            df_low=df_surv.sort_values(by=['SR'], ascending=False)[[x,y,'Position_by_10','SR']].tail(5)\n",
    "            df_low[\"Result\"] = df_low[x].astype(str) +\"_\"+ df_low[y].astype(str) +\"_\"+ df_low[\"Position_by_10\"].astype(str) +\"{\"+ round(df_low[\"SR\"],2).astype(str) +'}'\n",
    "            result_row = df_low[\"Result\"]\n",
    "            combination = x +\"_\"+ y +\"_Position_by_10\"\n",
    "            row = [combination,]\n",
    "            for value in result_row:\n",
    "                row.append(value)\n",
    "            df_lows.loc[len(df_lows)] = row\n",
    "\n",
    "df_lows"
   ]
  },
  {
   "cell_type": "markdown",
   "id": "72163790",
   "metadata": {},
   "source": [
    "### RQ4"
   ]
  },
  {
   "cell_type": "code",
   "execution_count": null,
   "id": "9848dece",
   "metadata": {},
   "outputs": [],
   "source": [
    "df_tops = pd.DataFrame(columns=['Combination',1,2,3,4,5])\n",
    "for a in ['algorithm', 'algorithm_group', 'dominant_state']:\n",
    "    for x in ['Operator', 'Position_by_10']:\n",
    "        for y in ['Gate', 'Gate_type', 'Gate_size', 'Position_by_10']:\n",
    "            if x != y:\n",
    "                df1 = complete_001.groupby([x, y, a])['Killed'].value_counts(normalize=True)\n",
    "                df1 = df1.rename('SR').reset_index()\n",
    "                df_surv = df1[df1['Killed']=='Survivor']\n",
    "                df_top = df_surv.sort_values(by=['SR'], ascending=False)[[x,y,a,'SR']].head(5)\n",
    "                df_top[\"Result\"] = df_top[x].astype(str) +\"-\"+ df_top[y].astype(str) +\"-\"+ df_top[a].astype(str) +\"{\"+ round(df_top[\"SR\"],2).astype(str) +'}'\n",
    "                result_row = df_top[\"Result\"]\n",
    "                combination = x +\"-\"+ y +\"-\" + a\n",
    "                row = [combination,]\n",
    "                for value in result_row:\n",
    "                    row.append(value)\n",
    "                df_tops.loc[len(df_tops)] = row\n",
    "df_tops           \n"
   ]
  },
  {
   "cell_type": "code",
   "execution_count": null,
   "id": "0da151a2",
   "metadata": {},
   "outputs": [],
   "source": [
    "df_lows = pd.DataFrame(columns=['Combination',1,2,3,4,5])\n",
    "for a in ['algorithm', 'algorithm_group', 'dominant_state']:\n",
    "    for x in ['Operator', 'Position_by_10']:\n",
    "        for y in ['Gate', 'Gate_type', 'Gate_size', 'Position_by_10']:\n",
    "            if x != y:\n",
    "                df1 = complete_001.groupby([x, y, a])['Killed'].value_counts(normalize=True)\n",
    "                df1 = df1.rename('SR').reset_index()\n",
    "                df_surv = df1[df1['Killed']=='Survivor']\n",
    "                df_low = df_surv.sort_values(by=['SR'], ascending=False)[[x,y,a,'SR']].tail(5)\n",
    "                df_low[\"Result\"] = df_low[x].astype(str) +\"-\"+ df_low[y].astype(str) +\"-\"+ df_low[a].astype(str) +\"{\"+ round(df_low[\"SR\"],2).astype(str) +'}'\n",
    "                result_row = df_low[\"Result\"]\n",
    "                combination = x +\"-\"+ y +\"-\" + a\n",
    "                row = [combination,]\n",
    "                for value in result_row:\n",
    "                    row.append(value)\n",
    "                df_lows.loc[len(df_lows)] = row\n",
    "df_lows           \n"
   ]
  },
  {
   "cell_type": "markdown",
   "id": "56e68920",
   "metadata": {},
   "source": [
    "## 4 Variables"
   ]
  },
  {
   "cell_type": "code",
   "execution_count": null,
   "id": "664cc212",
   "metadata": {},
   "outputs": [],
   "source": [
    "df_tops = pd.DataFrame(columns=['Combination',1,2,3,4,5])\n",
    "for x in ['algorithm', 'algorithm_group', 'dominant_state']:\n",
    "    for y in ['Gate', 'Gate_type', 'Gate_size']:\n",
    "        if x != y:\n",
    "            df1 = complete_001.groupby([x, y, 'Operator', 'Position_by_10'])['Killed'].value_counts(normalize=True)\n",
    "            df1 = df1.rename('SR').reset_index()\n",
    "            df_surv = df1[df1['Killed']=='Survivor']\n",
    "            df_top = df_surv.sort_values(by=['SR'], ascending=False)[[x,y,'Operator', 'Position_by_10','SR']].head(5)\n",
    "            df_top[\"Result\"] = df_top[x].astype(str) +\"-\"+ df_top[y].astype(str) +\"-\"+ df_top['Operator'].astype(str) +\"-\"+ df_top['Position_by_10'].astype(str) +\"{\"+ round(df_top[\"SR\"],2).astype(str) +'}'\n",
    "            result_row = df_top[\"Result\"]\n",
    "            combination = x +\"-\"+ y +\"-Operator-Position_by_10\"\n",
    "            row = [combination,]\n",
    "            for value in result_row:\n",
    "                row.append(value)\n",
    "            df_tops.loc[len(df_tops)] = row\n",
    "\n",
    "df_tops"
   ]
  },
  {
   "cell_type": "code",
   "execution_count": null,
   "id": "4027c750",
   "metadata": {},
   "outputs": [],
   "source": [
    "df_lows = pd.DataFrame(columns=['Combination',1,2,3,4,5])\n",
    "for x in ['algorithm', 'algorithm_group', 'dominant_state']:\n",
    "    for y in ['Gate', 'Gate_type', 'Gate_size']:\n",
    "        if x != y:\n",
    "            df1 = complete_001.groupby([x, y, 'Operator', 'Position_by_10'])['Killed'].value_counts(normalize=True)\n",
    "            df1 = df1.rename('SR').reset_index()\n",
    "            df_surv = df1[df1['Killed']=='Survivor']\n",
    "            df_low = df_surv.sort_values(by=['SR'], ascending=False)[[x,y,'Operator', 'Position_by_10','SR']].tail(5)\n",
    "            df_low[\"Result\"] = df_low[x].astype(str) +\"-\"+ df_low[y].astype(str) +\"-\"+ df_low['Operator'].astype(str) +\"-\"+ df_low['Position_by_10'].astype(str) +\"{\"+ round(df_low[\"SR\"],2).astype(str) +'}'\n",
    "            result_row = df_low[\"Result\"]\n",
    "            combination = x +\"-\"+ y +\"-Operator-Position_by_10\"\n",
    "            row = [combination,]\n",
    "            for value in result_row:\n",
    "                row.append(value)\n",
    "            df_lows.loc[len(df_lows)] = row\n",
    "\n",
    "df_lows"
   ]
  },
  {
   "cell_type": "code",
   "execution_count": null,
   "id": "273e1dbe",
   "metadata": {},
   "outputs": [],
   "source": []
  }
 ],
 "metadata": {
  "kernelspec": {
   "display_name": "Python 3 (ipykernel)",
   "language": "python",
   "name": "python3"
  },
  "language_info": {
   "codemirror_mode": {
    "name": "ipython",
    "version": 3
   },
   "file_extension": ".py",
   "mimetype": "text/x-python",
   "name": "python",
   "nbconvert_exporter": "python",
   "pygments_lexer": "ipython3",
   "version": "3.10.9"
  }
 },
 "nbformat": 4,
 "nbformat_minor": 5
}
